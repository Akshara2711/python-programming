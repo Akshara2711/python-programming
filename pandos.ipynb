{
 "cells": [
  {
   "cell_type": "code",
   "execution_count": 89,
   "id": "f1042b1f",
   "metadata": {},
   "outputs": [
    {
     "name": "stdout",
     "output_type": "stream",
     "text": [
      "Requirement already satisfied: pandas in c:\\users\\user\\appdata\\local\\programs\\python\\python313\\lib\\site-packages (2.2.3)\n",
      "Requirement already satisfied: numpy>=1.26.0 in c:\\users\\user\\appdata\\local\\programs\\python\\python313\\lib\\site-packages (from pandas) (2.2.5)\n",
      "Requirement already satisfied: python-dateutil>=2.8.2 in c:\\users\\user\\appdata\\roaming\\python\\python313\\site-packages (from pandas) (2.9.0.post0)\n",
      "Requirement already satisfied: pytz>=2020.1 in c:\\users\\user\\appdata\\local\\programs\\python\\python313\\lib\\site-packages (from pandas) (2025.2)\n",
      "Requirement already satisfied: tzdata>=2022.7 in c:\\users\\user\\appdata\\local\\programs\\python\\python313\\lib\\site-packages (from pandas) (2025.2)\n",
      "Requirement already satisfied: six>=1.5 in c:\\users\\user\\appdata\\roaming\\python\\python313\\site-packages (from python-dateutil>=2.8.2->pandas) (1.17.0)\n",
      "Note: you may need to restart the kernel to use updated packages.\n"
     ]
    }
   ],
   "source": [
    "pip install pandas\n"
   ]
  },
  {
   "cell_type": "code",
   "execution_count": 90,
   "id": "08ed8888",
   "metadata": {},
   "outputs": [],
   "source": [
    "import pandas as pd\n"
   ]
  },
  {
   "cell_type": "code",
   "execution_count": 91,
   "id": "3779a7ca",
   "metadata": {},
   "outputs": [
    {
     "name": "stdout",
     "output_type": "stream",
     "text": [
      "{'fruits': ['apple', 'banana', 'orange'], 'cars': ['BMW', 'Volvo', 'Ford'], 'passings': [3, 7, 2]}\n",
      "   fruits   cars  passings\n",
      "0   apple    BMW         3\n",
      "1  banana  Volvo         7\n",
      "2  orange   Ford         2\n"
     ]
    }
   ],
   "source": [
    "dic = {\n",
    "    'fruits' : [\"apple\",\"banana\",\"orange\"],\n",
    "    'cars': [\"BMW\", \"Volvo\", \"Ford\"],\n",
    "  'passings': [3, 7, 2]\n",
    "\n",
    "}\n",
    "print(dic)\n",
    "a=pd.DataFrame(dic)\n",
    "print(a)"
   ]
  },
  {
   "cell_type": "code",
   "execution_count": 92,
   "id": "a0bae3b3",
   "metadata": {},
   "outputs": [
    {
     "name": "stdout",
     "output_type": "stream",
     "text": [
      "0     apple\n",
      "1    banana\n",
      "2     mango\n",
      "dtype: object\n"
     ]
    }
   ],
   "source": [
    "fruits=[\"apple\",\"banana\",\"mango\"]\n",
    "a=pd.Series(fruits)\n",
    "print(a)"
   ]
  },
  {
   "cell_type": "code",
   "execution_count": 93,
   "id": "032b802b",
   "metadata": {},
   "outputs": [
    {
     "name": "stdout",
     "output_type": "stream",
     "text": [
      "6       fruits\n",
      "10        cars\n",
      "2     passings\n",
      "dtype: object\n"
     ]
    }
   ],
   "source": [
    "\n",
    "dic=[\"fruits\",\"cars\",\"passings\"]\n",
    "a=pd.Series(dic,index=[6,10,2])\n",
    "print(a)\n"
   ]
  },
  {
   "cell_type": "code",
   "execution_count": 94,
   "id": "a1d99a7c",
   "metadata": {},
   "outputs": [
    {
     "name": "stdout",
     "output_type": "stream",
     "text": [
      "2    dbms\n",
      "4     dcf\n",
      "6    java\n",
      "dtype: object\n",
      "None\n",
      "   Unnamed: 0     0\n",
      "0           2  dbms\n",
      "1           4   dcf\n",
      "2           6  java\n"
     ]
    }
   ],
   "source": [
    "sub=[\"dbms\",\"dcf\",\"java\"]\n",
    "a=pd.Series(sub,index=[2,4,6])\n",
    "print(a)\n",
    "b=a.to_csv(\"sample.csv\")\n",
    "print(b)\n",
    "c = pd.read_csv(\"sample.csv\")\n",
    "print(c)\n",
    "\n"
   ]
  },
  {
   "cell_type": "code",
   "execution_count": 95,
   "id": "d052cd18",
   "metadata": {},
   "outputs": [
    {
     "data": {
      "text/html": [
       "<div>\n",
       "<style scoped>\n",
       "    .dataframe tbody tr th:only-of-type {\n",
       "        vertical-align: middle;\n",
       "    }\n",
       "\n",
       "    .dataframe tbody tr th {\n",
       "        vertical-align: top;\n",
       "    }\n",
       "\n",
       "    .dataframe thead th {\n",
       "        text-align: right;\n",
       "    }\n",
       "</style>\n",
       "<table border=\"1\" class=\"dataframe\">\n",
       "  <thead>\n",
       "    <tr style=\"text-align: right;\">\n",
       "      <th></th>\n",
       "      <th>Unnamed: 0</th>\n",
       "      <th>0</th>\n",
       "    </tr>\n",
       "  </thead>\n",
       "  <tbody>\n",
       "    <tr>\n",
       "      <th>0</th>\n",
       "      <td>2</td>\n",
       "      <td>dbms</td>\n",
       "    </tr>\n",
       "    <tr>\n",
       "      <th>1</th>\n",
       "      <td>4</td>\n",
       "      <td>dcf</td>\n",
       "    </tr>\n",
       "    <tr>\n",
       "      <th>2</th>\n",
       "      <td>6</td>\n",
       "      <td>java</td>\n",
       "    </tr>\n",
       "  </tbody>\n",
       "</table>\n",
       "</div>"
      ],
      "text/plain": [
       "   Unnamed: 0     0\n",
       "0           2  dbms\n",
       "1           4   dcf\n",
       "2           6  java"
      ]
     },
     "execution_count": 95,
     "metadata": {},
     "output_type": "execute_result"
    }
   ],
   "source": [
    "pd.read_csv('sample.csv')"
   ]
  },
  {
   "cell_type": "code",
   "execution_count": 96,
   "id": "3ea1f540",
   "metadata": {},
   "outputs": [
    {
     "name": "stdout",
     "output_type": "stream",
     "text": [
      "{'cars': ['BMW', 'Volvo', 'Ford'], 'years': [1999, 2001, 2010]}\n",
      "    cars  years\n",
      "0    BMW   1999\n",
      "1  Volvo   2001\n",
      "2   Ford   2010\n",
      "   Unnamed: 0   cars  years\n",
      "0           0    BMW   1999\n",
      "1           1  Volvo   2001\n",
      "2           2   Ford   2010\n"
     ]
    },
    {
     "data": {
      "text/html": [
       "<div>\n",
       "<style scoped>\n",
       "    .dataframe tbody tr th:only-of-type {\n",
       "        vertical-align: middle;\n",
       "    }\n",
       "\n",
       "    .dataframe tbody tr th {\n",
       "        vertical-align: top;\n",
       "    }\n",
       "\n",
       "    .dataframe thead th {\n",
       "        text-align: right;\n",
       "    }\n",
       "</style>\n",
       "<table border=\"1\" class=\"dataframe\">\n",
       "  <thead>\n",
       "    <tr style=\"text-align: right;\">\n",
       "      <th></th>\n",
       "      <th>cars</th>\n",
       "      <th>years</th>\n",
       "    </tr>\n",
       "  </thead>\n",
       "  <tbody>\n",
       "    <tr>\n",
       "      <th>0</th>\n",
       "      <td>BMW</td>\n",
       "      <td>1999</td>\n",
       "    </tr>\n",
       "    <tr>\n",
       "      <th>1</th>\n",
       "      <td>Volvo</td>\n",
       "      <td>2001</td>\n",
       "    </tr>\n",
       "    <tr>\n",
       "      <th>2</th>\n",
       "      <td>Ford</td>\n",
       "      <td>2010</td>\n",
       "    </tr>\n",
       "  </tbody>\n",
       "</table>\n",
       "</div>"
      ],
      "text/plain": [
       "    cars  years\n",
       "0    BMW   1999\n",
       "1  Volvo   2001\n",
       "2   Ford   2010"
      ]
     },
     "execution_count": 96,
     "metadata": {},
     "output_type": "execute_result"
    }
   ],
   "source": [
    "dic={\n",
    "        'cars': [\"BMW\", \"Volvo\", \"Ford\"],\n",
    "        'years':[1999,2001,2010]\n",
    "}\n",
    "print(dic)\n",
    "a=pd.DataFrame(dic)\n",
    "print(a)\n",
    "b=a.to_csv(\"sample2.csv\")\n",
    "\n",
    "c = pd.read_csv(\"sample2.csv\")\n",
    "print(c)\n",
    "\n",
    "a.head()\n"
   ]
  },
  {
   "cell_type": "code",
   "execution_count": 97,
   "id": "0f9a18d3",
   "metadata": {},
   "outputs": [
    {
     "name": "stdout",
     "output_type": "stream",
     "text": [
      "    cars  years     fruits  subject  colors       place\n",
      "0    BMW   1999     orange     dbms   green      kannur\n",
      "1  Volvo   2001      apple     java    blue   kozhikode\n",
      "2   Ford   2010     banana      ccn    pink    vadakara\n",
      "3  Volvo   2022      mango   python  orange  malappuram\n",
      "4  Volvo   2024       kiwi  android   green   kasaragod\n",
      "5  Volvo   2025     grapes  english    blue      kollam\n",
      "6  Volvo   2054  pineapple    maths   black         goa\n",
      "<class 'pandas.core.frame.DataFrame'>\n",
      "RangeIndex: 7 entries, 0 to 6\n",
      "Data columns (total 6 columns):\n",
      " #   Column   Non-Null Count  Dtype \n",
      "---  ------   --------------  ----- \n",
      " 0   cars     7 non-null      object\n",
      " 1   years    7 non-null      int64 \n",
      " 2   fruits   7 non-null      object\n",
      " 3   subject  7 non-null      object\n",
      " 4   colors   7 non-null      object\n",
      " 5   place    7 non-null      object\n",
      "dtypes: int64(1), object(5)\n",
      "memory usage: 468.0+ bytes\n"
     ]
    },
    {
     "data": {
      "text/html": [
       "<div>\n",
       "<style scoped>\n",
       "    .dataframe tbody tr th:only-of-type {\n",
       "        vertical-align: middle;\n",
       "    }\n",
       "\n",
       "    .dataframe tbody tr th {\n",
       "        vertical-align: top;\n",
       "    }\n",
       "\n",
       "    .dataframe thead th {\n",
       "        text-align: right;\n",
       "    }\n",
       "</style>\n",
       "<table border=\"1\" class=\"dataframe\">\n",
       "  <thead>\n",
       "    <tr style=\"text-align: right;\">\n",
       "      <th></th>\n",
       "      <th>years</th>\n",
       "    </tr>\n",
       "  </thead>\n",
       "  <tbody>\n",
       "    <tr>\n",
       "      <th>count</th>\n",
       "      <td>7.000000</td>\n",
       "    </tr>\n",
       "    <tr>\n",
       "      <th>mean</th>\n",
       "      <td>2019.285714</td>\n",
       "    </tr>\n",
       "    <tr>\n",
       "      <th>std</th>\n",
       "      <td>18.705741</td>\n",
       "    </tr>\n",
       "    <tr>\n",
       "      <th>min</th>\n",
       "      <td>1999.000000</td>\n",
       "    </tr>\n",
       "    <tr>\n",
       "      <th>25%</th>\n",
       "      <td>2005.500000</td>\n",
       "    </tr>\n",
       "    <tr>\n",
       "      <th>50%</th>\n",
       "      <td>2022.000000</td>\n",
       "    </tr>\n",
       "    <tr>\n",
       "      <th>75%</th>\n",
       "      <td>2024.500000</td>\n",
       "    </tr>\n",
       "    <tr>\n",
       "      <th>max</th>\n",
       "      <td>2054.000000</td>\n",
       "    </tr>\n",
       "  </tbody>\n",
       "</table>\n",
       "</div>"
      ],
      "text/plain": [
       "             years\n",
       "count     7.000000\n",
       "mean   2019.285714\n",
       "std      18.705741\n",
       "min    1999.000000\n",
       "25%    2005.500000\n",
       "50%    2022.000000\n",
       "75%    2024.500000\n",
       "max    2054.000000"
      ]
     },
     "execution_count": 97,
     "metadata": {},
     "output_type": "execute_result"
    }
   ],
   "source": [
    "dic={\n",
    "        'cars': [\"BMW\", \"Volvo\", \"Ford\",\"Volvo\",\"Volvo\",\"Volvo\",\"Volvo\"],\n",
    "        'years':[1999,2001,2010,2022,2024,2025,2054],\n",
    "        'fruits': [\"orange\",\"apple\",\"banana\",\"mango\",\"kiwi\",\"grapes\",\"pineapple\"],\n",
    "        'subject':[\"dbms\",\"java\",\"ccn\",\"python\",\"android\",\"english\",'maths'],\n",
    "        'colors':[\"green\",\"blue\",\"pink\",\"orange\",\"green\",\"blue\",\"black\"],\n",
    "        'place':[\"kannur\",\"kozhikode\",\"vadakara\",\"malappuram\",\"kasaragod\",\"kollam\",\"goa\"]\n",
    "}\n",
    "a=pd.DataFrame(dic)\n",
    "print(a)\n",
    "a.head()\n",
    "a.tail()\n",
    "a.info()\n",
    "a.describe()"
   ]
  },
  {
   "cell_type": "code",
   "execution_count": 98,
   "id": "a8f252df",
   "metadata": {},
   "outputs": [
    {
     "name": "stdout",
     "output_type": "stream",
     "text": [
      "    cars  years     fruits  subject  colors       place\n",
      "0    BMW   1999     orange     dbms   green      kannur\n",
      "1  Volvo   2001       None     java    blue   kozhikode\n",
      "2   Ford   2010     banana      ccn    pink    vadakara\n",
      "3   None   2022      mango   python  orange  malappuram\n",
      "4  Volvo   2024       kiwi  android   green   kasaragod\n",
      "5  Volvo   2025     grapes  english    None        None\n",
      "6  Volvo   2054  pineapple    maths   black         goa\n"
     ]
    },
    {
     "data": {
      "text/html": [
       "<div>\n",
       "<style scoped>\n",
       "    .dataframe tbody tr th:only-of-type {\n",
       "        vertical-align: middle;\n",
       "    }\n",
       "\n",
       "    .dataframe tbody tr th {\n",
       "        vertical-align: top;\n",
       "    }\n",
       "\n",
       "    .dataframe thead th {\n",
       "        text-align: right;\n",
       "    }\n",
       "</style>\n",
       "<table border=\"1\" class=\"dataframe\">\n",
       "  <thead>\n",
       "    <tr style=\"text-align: right;\">\n",
       "      <th></th>\n",
       "      <th>cars</th>\n",
       "      <th>years</th>\n",
       "      <th>fruits</th>\n",
       "      <th>subject</th>\n",
       "      <th>colors</th>\n",
       "      <th>place</th>\n",
       "    </tr>\n",
       "  </thead>\n",
       "  <tbody>\n",
       "    <tr>\n",
       "      <th>0</th>\n",
       "      <td>BMW</td>\n",
       "      <td>1999</td>\n",
       "      <td>orange</td>\n",
       "      <td>dbms</td>\n",
       "      <td>green</td>\n",
       "      <td>kannur</td>\n",
       "    </tr>\n",
       "    <tr>\n",
       "      <th>1</th>\n",
       "      <td>Volvo</td>\n",
       "      <td>2001</td>\n",
       "      <td>zzzzz</td>\n",
       "      <td>java</td>\n",
       "      <td>blue</td>\n",
       "      <td>kozhikode</td>\n",
       "    </tr>\n",
       "    <tr>\n",
       "      <th>2</th>\n",
       "      <td>Ford</td>\n",
       "      <td>2010</td>\n",
       "      <td>banana</td>\n",
       "      <td>ccn</td>\n",
       "      <td>pink</td>\n",
       "      <td>vadakara</td>\n",
       "    </tr>\n",
       "    <tr>\n",
       "      <th>3</th>\n",
       "      <td>zzzzz</td>\n",
       "      <td>2022</td>\n",
       "      <td>mango</td>\n",
       "      <td>python</td>\n",
       "      <td>orange</td>\n",
       "      <td>malappuram</td>\n",
       "    </tr>\n",
       "    <tr>\n",
       "      <th>4</th>\n",
       "      <td>Volvo</td>\n",
       "      <td>2024</td>\n",
       "      <td>kiwi</td>\n",
       "      <td>android</td>\n",
       "      <td>green</td>\n",
       "      <td>kasaragod</td>\n",
       "    </tr>\n",
       "    <tr>\n",
       "      <th>5</th>\n",
       "      <td>Volvo</td>\n",
       "      <td>2025</td>\n",
       "      <td>grapes</td>\n",
       "      <td>english</td>\n",
       "      <td>zzzzz</td>\n",
       "      <td>zzzzz</td>\n",
       "    </tr>\n",
       "    <tr>\n",
       "      <th>6</th>\n",
       "      <td>Volvo</td>\n",
       "      <td>2054</td>\n",
       "      <td>pineapple</td>\n",
       "      <td>maths</td>\n",
       "      <td>black</td>\n",
       "      <td>goa</td>\n",
       "    </tr>\n",
       "  </tbody>\n",
       "</table>\n",
       "</div>"
      ],
      "text/plain": [
       "    cars  years     fruits  subject  colors       place\n",
       "0    BMW   1999     orange     dbms   green      kannur\n",
       "1  Volvo   2001      zzzzz     java    blue   kozhikode\n",
       "2   Ford   2010     banana      ccn    pink    vadakara\n",
       "3  zzzzz   2022      mango   python  orange  malappuram\n",
       "4  Volvo   2024       kiwi  android   green   kasaragod\n",
       "5  Volvo   2025     grapes  english   zzzzz       zzzzz\n",
       "6  Volvo   2054  pineapple    maths   black         goa"
      ]
     },
     "execution_count": 98,
     "metadata": {},
     "output_type": "execute_result"
    }
   ],
   "source": [
    "dic={\n",
    "        'cars': [\"BMW\", \"Volvo\", \"Ford\",None,\"Volvo\",\"Volvo\",\"Volvo\"],\n",
    "        'years':[1999,2001,2010,2022,2024,2025,2054],\n",
    "        'fruits': [\"orange\",None,\"banana\",\"mango\",\"kiwi\",\"grapes\",\"pineapple\"],\n",
    "        'subject':[\"dbms\",\"java\",\"ccn\",\"python\",\"android\",\"english\",'maths'],\n",
    "        'colors':[\"green\",\"blue\",\"pink\",\"orange\",\"green\",None,\"black\"],\n",
    "        'place':[\"kannur\",\"kozhikode\",\"vadakara\",\"malappuram\",\"kasaragod\",None,\"goa\"]\n",
    "}\n",
    "a=pd.DataFrame(dic)\n",
    "print(a)\n",
    "a.dropna()\n",
    "a.fillna(\"zzzzz\")"
   ]
  },
  {
   "cell_type": "code",
   "execution_count": 99,
   "id": "d06ddc31",
   "metadata": {},
   "outputs": [
    {
     "name": "stdout",
     "output_type": "stream",
     "text": [
      "Requirement already satisfied: openpyxl in c:\\users\\user\\appdata\\local\\programs\\python\\python313\\lib\\site-packages (3.1.5)\n",
      "Requirement already satisfied: et-xmlfile in c:\\users\\user\\appdata\\local\\programs\\python\\python313\\lib\\site-packages (from openpyxl) (2.0.0)\n",
      "Note: you may need to restart the kernel to use updated packages.\n"
     ]
    }
   ],
   "source": [
    "pip install openpyxl"
   ]
  },
  {
   "cell_type": "code",
   "execution_count": 100,
   "id": "e900938f",
   "metadata": {},
   "outputs": [
    {
     "name": "stdout",
     "output_type": "stream",
     "text": [
      "    cars  years     fruits  subject  colors       place\n",
      "0    BMW   1999     orange     dbms   green      kannur\n",
      "1  Volvo   2001      apple     java    blue   kozhikode\n",
      "2   Ford   2010     banana      ccn    pink    vadakara\n",
      "3  Volvo   2022      mango   python  orange  malappuram\n",
      "4  Volvo   2024       kiwi  android   green   kasaragod\n",
      "5  Volvo   2025     grapes  english    blue      kollam\n",
      "6  Volvo   2054  pineapple    maths   black         goa\n"
     ]
    },
    {
     "data": {
      "text/html": [
       "<div>\n",
       "<style scoped>\n",
       "    .dataframe tbody tr th:only-of-type {\n",
       "        vertical-align: middle;\n",
       "    }\n",
       "\n",
       "    .dataframe tbody tr th {\n",
       "        vertical-align: top;\n",
       "    }\n",
       "\n",
       "    .dataframe thead th {\n",
       "        text-align: right;\n",
       "    }\n",
       "</style>\n",
       "<table border=\"1\" class=\"dataframe\">\n",
       "  <thead>\n",
       "    <tr style=\"text-align: right;\">\n",
       "      <th></th>\n",
       "      <th>Unnamed: 0</th>\n",
       "      <th>cars</th>\n",
       "      <th>years</th>\n",
       "      <th>fruits</th>\n",
       "      <th>subject</th>\n",
       "      <th>colors</th>\n",
       "      <th>place</th>\n",
       "    </tr>\n",
       "  </thead>\n",
       "  <tbody>\n",
       "    <tr>\n",
       "      <th>0</th>\n",
       "      <td>0</td>\n",
       "      <td>BMW</td>\n",
       "      <td>1999</td>\n",
       "      <td>orange</td>\n",
       "      <td>dbms</td>\n",
       "      <td>green</td>\n",
       "      <td>kannur</td>\n",
       "    </tr>\n",
       "    <tr>\n",
       "      <th>1</th>\n",
       "      <td>1</td>\n",
       "      <td>Volvo</td>\n",
       "      <td>2001</td>\n",
       "      <td>apple</td>\n",
       "      <td>java</td>\n",
       "      <td>blue</td>\n",
       "      <td>kozhikode</td>\n",
       "    </tr>\n",
       "    <tr>\n",
       "      <th>2</th>\n",
       "      <td>2</td>\n",
       "      <td>Ford</td>\n",
       "      <td>2010</td>\n",
       "      <td>banana</td>\n",
       "      <td>ccn</td>\n",
       "      <td>pink</td>\n",
       "      <td>vadakara</td>\n",
       "    </tr>\n",
       "    <tr>\n",
       "      <th>3</th>\n",
       "      <td>3</td>\n",
       "      <td>Volvo</td>\n",
       "      <td>2022</td>\n",
       "      <td>mango</td>\n",
       "      <td>python</td>\n",
       "      <td>orange</td>\n",
       "      <td>malappuram</td>\n",
       "    </tr>\n",
       "    <tr>\n",
       "      <th>4</th>\n",
       "      <td>4</td>\n",
       "      <td>Volvo</td>\n",
       "      <td>2024</td>\n",
       "      <td>kiwi</td>\n",
       "      <td>android</td>\n",
       "      <td>green</td>\n",
       "      <td>kasaragod</td>\n",
       "    </tr>\n",
       "    <tr>\n",
       "      <th>5</th>\n",
       "      <td>5</td>\n",
       "      <td>Volvo</td>\n",
       "      <td>2025</td>\n",
       "      <td>grapes</td>\n",
       "      <td>english</td>\n",
       "      <td>blue</td>\n",
       "      <td>kollam</td>\n",
       "    </tr>\n",
       "    <tr>\n",
       "      <th>6</th>\n",
       "      <td>6</td>\n",
       "      <td>Volvo</td>\n",
       "      <td>2054</td>\n",
       "      <td>pineapple</td>\n",
       "      <td>maths</td>\n",
       "      <td>black</td>\n",
       "      <td>goa</td>\n",
       "    </tr>\n",
       "  </tbody>\n",
       "</table>\n",
       "</div>"
      ],
      "text/plain": [
       "   Unnamed: 0   cars  years     fruits  subject  colors       place\n",
       "0           0    BMW   1999     orange     dbms   green      kannur\n",
       "1           1  Volvo   2001      apple     java    blue   kozhikode\n",
       "2           2   Ford   2010     banana      ccn    pink    vadakara\n",
       "3           3  Volvo   2022      mango   python  orange  malappuram\n",
       "4           4  Volvo   2024       kiwi  android   green   kasaragod\n",
       "5           5  Volvo   2025     grapes  english    blue      kollam\n",
       "6           6  Volvo   2054  pineapple    maths   black         goa"
      ]
     },
     "execution_count": 100,
     "metadata": {},
     "output_type": "execute_result"
    }
   ],
   "source": [
    "dic={\n",
    "        'cars': [\"BMW\", \"Volvo\", \"Ford\",\"Volvo\",\"Volvo\",\"Volvo\",\"Volvo\"],\n",
    "        'years':[1999,2001,2010,2022,2024,2025,2054],\n",
    "        'fruits': [\"orange\",\"apple\",\"banana\",\"mango\",\"kiwi\",\"grapes\",\"pineapple\"],\n",
    "        'subject':[\"dbms\",\"java\",\"ccn\",\"python\",\"android\",\"english\",'maths'],\n",
    "        'colors':[\"green\",\"blue\",\"pink\",\"orange\",\"green\",\"blue\",\"black\"],\n",
    "        'place':[\"kannur\",\"kozhikode\",\"vadakara\",\"malappuram\",\"kasaragod\",\"kollam\",\"goa\"]\n",
    "}\n",
    "a=pd.DataFrame(dic)\n",
    "print(a)\n",
    "\n",
    "b=a.to_excel(\"sample.xlsx\")\n",
    "\n",
    "pd.read_excel(\"sample.xlsx\")\n",
    "\n",
    "\n"
   ]
  }
 ],
 "metadata": {
  "kernelspec": {
   "display_name": "Python 3",
   "language": "python",
   "name": "python3"
  },
  "language_info": {
   "codemirror_mode": {
    "name": "ipython",
    "version": 3
   },
   "file_extension": ".py",
   "mimetype": "text/x-python",
   "name": "python",
   "nbconvert_exporter": "python",
   "pygments_lexer": "ipython3",
   "version": "3.13.2"
  }
 },
 "nbformat": 4,
 "nbformat_minor": 5
}
